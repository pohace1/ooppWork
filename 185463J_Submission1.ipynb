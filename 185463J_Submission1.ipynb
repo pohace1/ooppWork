{
  "nbformat": 4,
  "nbformat_minor": 0,
  "metadata": {
    "colab": {
      "name": "185463J_Submission1.ipynb",
      "version": "0.3.2",
      "provenance": [],
      "collapsed_sections": [],
      "include_colab_link": true
    },
    "kernelspec": {
      "name": "python3",
      "display_name": "Python 3"
    }
  },
  "cells": [
    {
      "cell_type": "markdown",
      "metadata": {
        "id": "view-in-github",
        "colab_type": "text"
      },
      "source": [
        "<a href=\"https://colab.research.google.com/github/pohace1/ooppWork/blob/master/185463J_Submission1.ipynb\" target=\"_parent\"><img src=\"https://colab.research.google.com/assets/colab-badge.svg\" alt=\"Open In Colab\"/></a>"
      ]
    },
    {
      "metadata": {
        "id": "3NBjrxpxOQND",
        "colab_type": "code",
        "colab": {}
      },
      "cell_type": "code",
      "source": [
        ""
      ],
      "execution_count": 0,
      "outputs": []
    },
    {
      "metadata": {
        "id": "Cj0DTHlsORQS",
        "colab_type": "text"
      },
      "cell_type": "markdown",
      "source": [
        "# Submission #1 - Classes, Objects and Methods\n",
        "\n",
        "Create a program to simulate the tossing of a coin.  In the program, we need to repeatedly toss the coin and determine whether it landed heads up or tails up.  We will write a class Coin that can perform the behaviours of the coin.  You should apply encapsulation whenever possible.  In this class, you should have the following methods:\n",
        "\n",
        "*   An initializer with no parameter, that defines a data attribute, sideup, and initializes it with ‘Heads’.\n",
        "*   A method, toss() with no parameter, that generates a random number in the range of 0 through 1.  If the number is 0, then data attribute sideup is set to ‘Heads’.  Otherwise, sideup is set to ‘Tails’.  It should print ‘I am tossing the coin …’ too.\n",
        "*  An accessor method, get_sideup() that returns the value of data attribute, sideup.\n",
        "\n",
        "Complete the Con class below and run it:"
      ]
    },
    {
      "metadata": {
        "id": "NxpX_4tUO0uK",
        "colab_type": "code",
        "outputId": "0651ab94-017d-48de-dc9d-9cda11ae5c66",
        "colab": {
          "base_uri": "https://localhost:8080/",
          "height": 69
        }
      },
      "cell_type": "code",
      "source": [
        "#import random generator\n",
        "import random\n",
        "\n",
        "class Coin:\n",
        "  # __init__ with no parameter, 1 data attribute, sideup that initializes to 'Heads'\n",
        "  def __init__(self):\n",
        "    self.sideup=\"Heads\"\n",
        "  \n",
        "  # toss() method with no parameter, generates a random 0 or 1.  sideup set to Heads if 0 \n",
        "  def toss(self):\n",
        "    print(\"I am tossing the coin ...\")\n",
        "    r=random.randint(0,1)\n",
        "    if r==0:\n",
        "      self.sideup=\"Heads\"\n",
        "    if r==1:\n",
        "      self.sideup=\"Tails\"\n",
        "  \n",
        "   \n",
        "  # get_sideup() accessor method\n",
        "  def get_sideup(self):\n",
        "    print(self.sideup)\n",
        "  \n",
        "c=Coin()\n",
        "c.get_sideup()\n",
        "c.toss()\n",
        "c.get_sideup()\n",
        "\n",
        "  "
      ],
      "execution_count": 0,
      "outputs": [
        {
          "output_type": "stream",
          "text": [
            "Heads\n",
            "I am tossing the coin ...\n",
            "Heads\n"
          ],
          "name": "stdout"
        }
      ]
    },
    {
      "metadata": {
        "id": "SXysFHlxRAkp",
        "colab_type": "text"
      },
      "cell_type": "markdown",
      "source": [
        "Creates a main() function that uses the Coin class to simulate the tossing of coin and run the function\n",
        "\n",
        "\n",
        "1.   Instantiate a coin object from Coin class\n",
        "2.   Display the side of the coin that is facing up at the start\n",
        "3.   Toss the coin\n",
        "4.   Display the side of the coin that is facing up again\n",
        "\n",
        "Sample output is given below:\n",
        "\n",
        "```\n",
        "Heads\n",
        "I am tossing the coin …\n",
        "Tails\n",
        "```"
      ]
    },
    {
      "metadata": {
        "id": "gMNkgS_KV_0_",
        "colab_type": "code",
        "outputId": "0b5bebc4-81af-4e2a-b035-319b1b8d2dcc",
        "colab": {
          "base_uri": "https://localhost:8080/",
          "height": 69
        }
      },
      "cell_type": "code",
      "source": [
        "\n",
        "\n",
        "def main():\n",
        "  # Create an instance from Coin class\n",
        "  d=Coin()\n",
        "  \n",
        "  \n",
        "  # Display the side of the coin that is facing up\n",
        "  \n",
        "  d.get_sideup()\n",
        "  \n",
        "  # Toss the coin\n",
        "  d.toss()\n",
        "  \n",
        "  \n",
        "  # Display the side again\n",
        "  d.get_sideup()\n",
        "\n",
        "  \n",
        "main()"
      ],
      "execution_count": 0,
      "outputs": [
        {
          "output_type": "stream",
          "text": [
            "Heads\n",
            "I am tossing the coin ...\n",
            "Heads\n"
          ],
          "name": "stdout"
        }
      ]
    },
    {
      "metadata": {
        "id": "V4t4VyNZkDQ2",
        "colab_type": "text"
      },
      "cell_type": "markdown",
      "source": [
        "Creates another function, calculate() that allows user to calculate the probability of getting sideup to be Heads, after tossing the coin for x number of times, where x is number provided by user.\n",
        "\n",
        "Sample output is given below:\n",
        "\n",
        "\n",
        "\n",
        "```\n",
        "Enter the number of times to flip the coin: 5\n",
        "I am tossing the coin ... \n",
        "Heads\n",
        "I am tossing the coin ... \n",
        "Heads\n",
        "I am tossing the coin ... \n",
        "Heads\n",
        "I am tossing the coin ... \n",
        "Heads\n",
        "I am tossing the coin ... \n",
        "Heads\n",
        "Result : 5 heads out of 5\n",
        "```\n"
      ]
    },
    {
      "metadata": {
        "id": "tDxsl9ozsLfZ",
        "colab_type": "code",
        "outputId": "49422cf3-64b6-459a-ca11-8a3ca133f873",
        "colab": {
          "base_uri": "https://localhost:8080/",
          "height": 397
        }
      },
      "cell_type": "code",
      "source": [
        "def calculate():\n",
        "  c=Coin()\n",
        "  count=0\n",
        "  # complete the function here\n",
        "  number=int(input(\"Enter the number of times to flip the coin: \"))\n",
        "  for i in range(number):\n",
        "    c.toss()\n",
        "    c.get_sideup()\n",
        "    if c.sideup==\"Heads\":\n",
        "      count+=1\n",
        "  print(\"Results : %d heads out of %d\"%(count,number))\n",
        "\n",
        "  \n",
        "calculate()"
      ],
      "execution_count": 0,
      "outputs": [
        {
          "output_type": "stream",
          "text": [
            "Enter the number of times to flip the coin: 10\n",
            "I am tossing the coin ...\n",
            "Heads\n",
            "I am tossing the coin ...\n",
            "Heads\n",
            "I am tossing the coin ...\n",
            "Heads\n",
            "I am tossing the coin ...\n",
            "Heads\n",
            "I am tossing the coin ...\n",
            "Tails\n",
            "I am tossing the coin ...\n",
            "Tails\n",
            "I am tossing the coin ...\n",
            "Heads\n",
            "I am tossing the coin ...\n",
            "Heads\n",
            "I am tossing the coin ...\n",
            "Tails\n",
            "I am tossing the coin ...\n",
            "Tails\n",
            "Results : 6 heads out of 10\n"
          ],
          "name": "stdout"
        }
      ]
    }
  ]
}